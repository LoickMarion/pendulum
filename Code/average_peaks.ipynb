{
 "cells": [
  {
   "cell_type": "code",
   "execution_count": 16,
   "metadata": {},
   "outputs": [],
   "source": [
    "import numpy as np\n",
    "import pandas as pd\n",
    "from scipy.signal import find_peaks"
   ]
  },
  {
   "cell_type": "markdown",
   "metadata": {},
   "source": [
    "The point of this markdown is to try and fidn the frequency not by fitting an entire curve but instead by taking the pendulum angle data that other file made, finding the peak points, and then using the distance between them to get the period"
   ]
  },
  {
   "cell_type": "code",
   "execution_count": 17,
   "metadata": {},
   "outputs": [
    {
     "name": "stdout",
     "output_type": "stream",
     "text": [
      "Peak times: [ 1.03333333  2.83333333  4.6         6.36666667  8.13333333  9.93333333\n",
      " 11.7        13.46666667 15.3        17.06666667 18.83333333 20.6\n",
      " 22.4        24.16666667 25.93333333 27.73333333 29.5        31.26666667\n",
      " 33.03333333 34.83333333 36.6        38.36666667 40.16666667 41.93333333\n",
      " 43.73333333 45.46666667 47.26666667 49.06666667 50.83333333 52.6\n",
      " 54.4        56.2        57.96666667 59.73333333 61.5        63.26666667\n",
      " 65.06666667]\n",
      "Periods: [1.8        1.76666667 1.76666667 1.76666667 1.8        1.76666667\n",
      " 1.76666667 1.83333333 1.76666667 1.76666667 1.76666667 1.8\n",
      " 1.76666667 1.76666667 1.8        1.76666667 1.76666667 1.76666667\n",
      " 1.8        1.76666667 1.76666667 1.8        1.76666667 1.8\n",
      " 1.73333333 1.8        1.8        1.76666667 1.76666667 1.8\n",
      " 1.8        1.76666667 1.76666667 1.76666667 1.76666667 1.8       ]\n",
      "Average period: 1.7787037037037037\n"
     ]
    }
   ],
   "source": [
    "def find_pendulum_period(csv_file):\n",
    "    df = pd.read_csv(csv_file)\n",
    "\n",
    "    time = df['time'].values\n",
    "    angle = df['angle'].values\n",
    "\n",
    "    peaks, _ = find_peaks(angle)\n",
    "\n",
    "    peak_times = time[peaks]\n",
    "\n",
    "    periods = np.diff(peak_times)\n",
    "\n",
    "    avg_period = np.mean(periods) if len(periods) > 0 else None\n",
    "\n",
    "    return peak_times, periods, avg_period\n",
    "\n",
    "peak_times, periods, avg_period = find_pendulum_period('pendulum_angles.csv')\n",
    "print(\"Peak times:\", peak_times)\n",
    "print(\"Periods:\", periods)\n",
    "print(\"Average period:\", avg_period)"
   ]
  },
  {
   "cell_type": "code",
   "execution_count": 21,
   "metadata": {},
   "outputs": [
    {
     "name": "stdout",
     "output_type": "stream",
     "text": [
      "10.232137565230145\n"
     ]
    },
    {
     "ename": "",
     "evalue": "",
     "output_type": "error",
     "traceback": [
      "\u001b[1;31mThe Kernel crashed while executing code in the current cell or a previous cell. \n",
      "\u001b[1;31mPlease review the code in the cell(s) to identify a possible cause of the failure. \n",
      "\u001b[1;31mClick <a href='https://aka.ms/vscodeJupyterKernelCrash'>here</a> for more info. \n",
      "\u001b[1;31mView Jupyter <a href='command:jupyter.viewOutput'>log</a> for further details."
     ]
    }
   ],
   "source": [
    "L = .82\n",
    "g = 4 * np.pi**2 * L/avg_period**2\n",
    "print(g)"
   ]
  }
 ],
 "metadata": {
  "kernelspec": {
   "display_name": "Python 3",
   "language": "python",
   "name": "python3"
  },
  "language_info": {
   "codemirror_mode": {
    "name": "ipython",
    "version": 3
   },
   "file_extension": ".py",
   "mimetype": "text/x-python",
   "name": "python",
   "nbconvert_exporter": "python",
   "pygments_lexer": "ipython3",
   "version": "3.11.9"
  }
 },
 "nbformat": 4,
 "nbformat_minor": 2
}
