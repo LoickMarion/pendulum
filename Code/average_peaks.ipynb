{
 "cells": [
  {
   "cell_type": "code",
   "execution_count": 1,
   "metadata": {},
   "outputs": [],
   "source": [
    "import numpy as np\n",
    "import pandas as pd\n",
    "from scipy.signal import find_peaks"
   ]
  },
  {
   "cell_type": "markdown",
   "metadata": {},
   "source": [
    "The point of this markdown is to try and fidn the frequency not by fitting an entire curve but instead by taking the pendulum angle data that other file made, finding the peak points, and then using the distance between them to get the period"
   ]
  },
  {
   "cell_type": "code",
   "execution_count": 2,
   "metadata": {},
   "outputs": [
    {
     "name": "stdout",
     "output_type": "stream",
     "text": [
      "Peak times: [  1.05         2.83333333   4.61666667   6.38333333   8.16666667\n",
      "   9.95        11.73333333  13.5         15.28333333  17.06666667\n",
      "  18.85        20.63333333  22.4         24.18333333  25.96666667\n",
      "  27.75        29.53333333  31.3         33.08333333  34.86666667\n",
      "  36.65        38.43333333  40.2         41.98333333  43.76666667\n",
      "  45.55        47.33333333  49.11666667  50.88333333  52.66666667\n",
      "  54.45        56.23333333  58.          59.78333333  61.56666667\n",
      "  63.35        65.13333333  66.91666667  68.68333333  70.46666667\n",
      "  72.25        74.03333333  75.8         77.58333333  79.36666667\n",
      "  81.15        82.93333333  84.71666667  86.5         88.26666667\n",
      "  90.05        91.83333333  93.6         95.38333333  97.16666667\n",
      "  98.95       100.73333333 102.51666667 104.28333333 106.06666667\n",
      " 107.85       109.63333333 111.41666667 113.18333333 114.96666667\n",
      " 116.75       118.53333333 120.31666667 122.08333333 123.86666667\n",
      " 125.65       127.43333333 129.21666667 130.98333333 132.76666667\n",
      " 134.55       136.33333333 138.11666667 139.88333333 141.68333333\n",
      " 143.45       145.23333333 147.01666667 148.8        150.56666667\n",
      " 152.35       154.13333333 155.91666667 157.7        159.46666667\n",
      " 161.25       163.03333333 164.81666667 166.6        168.36666667\n",
      " 170.15       171.93333333 173.71666667 175.5        177.26666667\n",
      " 179.05       180.83333333 182.61666667 184.4       ]\n",
      "Periods: [1.78333333 1.78333333 1.76666667 1.78333333 1.78333333 1.78333333\n",
      " 1.76666667 1.78333333 1.78333333 1.78333333 1.78333333 1.76666667\n",
      " 1.78333333 1.78333333 1.78333333 1.78333333 1.76666667 1.78333333\n",
      " 1.78333333 1.78333333 1.78333333 1.76666667 1.78333333 1.78333333\n",
      " 1.78333333 1.78333333 1.78333333 1.76666667 1.78333333 1.78333333\n",
      " 1.78333333 1.76666667 1.78333333 1.78333333 1.78333333 1.78333333\n",
      " 1.78333333 1.76666667 1.78333333 1.78333333 1.78333333 1.76666667\n",
      " 1.78333333 1.78333333 1.78333333 1.78333333 1.78333333 1.78333333\n",
      " 1.76666667 1.78333333 1.78333333 1.76666667 1.78333333 1.78333333\n",
      " 1.78333333 1.78333333 1.78333333 1.76666667 1.78333333 1.78333333\n",
      " 1.78333333 1.78333333 1.76666667 1.78333333 1.78333333 1.78333333\n",
      " 1.78333333 1.76666667 1.78333333 1.78333333 1.78333333 1.78333333\n",
      " 1.76666667 1.78333333 1.78333333 1.78333333 1.78333333 1.76666667\n",
      " 1.8        1.76666667 1.78333333 1.78333333 1.78333333 1.76666667\n",
      " 1.78333333 1.78333333 1.78333333 1.78333333 1.76666667 1.78333333\n",
      " 1.78333333 1.78333333 1.78333333 1.76666667 1.78333333 1.78333333\n",
      " 1.78333333 1.78333333 1.76666667 1.78333333 1.78333333 1.78333333\n",
      " 1.78333333]\n",
      "Average period: 1.7800970873786408\n"
     ]
    }
   ],
   "source": [
    "def find_pendulum_period(csv_file):\n",
    "    df = pd.read_csv(csv_file)\n",
    "\n",
    "    time = df['time'].values\n",
    "    angle = df['angle'].values\n",
    "\n",
    "    peaks, _ = find_peaks(angle)\n",
    "\n",
    "    peak_times = time[peaks]\n",
    "\n",
    "    periods = np.diff(peak_times)\n",
    "\n",
    "    avg_period = np.mean(periods) if len(periods) > 0 else None\n",
    "\n",
    "    return peak_times, periods, avg_period\n",
    "\n",
    "peak_times, periods, avg_period = find_pendulum_period('pendulum_angles.csv')\n",
    "print(\"Peak times:\", peak_times)\n",
    "print(\"Periods:\", periods)\n",
    "print(\"Average period:\", avg_period)"
   ]
  },
  {
   "cell_type": "code",
   "execution_count": 3,
   "metadata": {},
   "outputs": [
    {
     "name": "stdout",
     "output_type": "stream",
     "text": [
      "10.216125277422751\n"
     ]
    }
   ],
   "source": [
    "L = .82\n",
    "g = 4 * np.pi**2 * L/avg_period**2\n",
    "print(g)"
   ]
  }
 ],
 "metadata": {
  "kernelspec": {
   "display_name": "Python 3",
   "language": "python",
   "name": "python3"
  },
  "language_info": {
   "codemirror_mode": {
    "name": "ipython",
    "version": 3
   },
   "file_extension": ".py",
   "mimetype": "text/x-python",
   "name": "python",
   "nbconvert_exporter": "python",
   "pygments_lexer": "ipython3",
   "version": "3.11.9"
  }
 },
 "nbformat": 4,
 "nbformat_minor": 2
}
